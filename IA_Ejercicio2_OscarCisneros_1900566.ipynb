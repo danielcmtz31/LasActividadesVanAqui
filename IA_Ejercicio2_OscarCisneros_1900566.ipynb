{
  "nbformat": 4,
  "nbformat_minor": 0,
  "metadata": {
    "colab": {
      "name": "IA_Ejercicio2_OscarCisneros_1900566",
      "provenance": [],
      "authorship_tag": "ABX9TyOGb1vo8wC+wQ3tt3q8yTPN",
      "include_colab_link": true
    },
    "kernelspec": {
      "name": "python3",
      "display_name": "Python 3"
    },
    "language_info": {
      "name": "python"
    }
  },
  "cells": [
    {
      "cell_type": "markdown",
      "metadata": {
        "id": "view-in-github",
        "colab_type": "text"
      },
      "source": [
        "<a href=\"https://colab.research.google.com/github/danielcmtz31/LasActividadesVanAqui/blob/main/IA_Ejercicio2_OscarCisneros_1900566.ipynb\" target=\"_parent\"><img src=\"https://colab.research.google.com/assets/colab-badge.svg\" alt=\"Open In Colab\"/></a>"
      ]
    },
    {
      "cell_type": "markdown",
      "source": [
        "A2: Ejercicios Básicos en Phyton Oscar Daniel Cisneros Martínez 1900566 N1-N3 Jueves"
      ],
      "metadata": {
        "id": "1HBqw_-CPeEV"
      }
    },
    {
      "cell_type": "markdown",
      "source": [
        "1. Escribe un programa que le pida al usuario por su nombre y que lo salude con su nombre, excepto si se llama \"Ana\", \"Juan\", y \"Pedro\"."
      ],
      "metadata": {
        "id": "Ok6noEbbiDXg"
      }
    },
    {
      "cell_type": "code",
      "source": [
        "print(\"Hola, ¿me podrías decir tu nombre?\")\n",
        "Nombre = input()\n",
        "if Nombre == \"Ana\":\n",
        "    print(\"Es un gusto conocerte\")\n",
        "elif Nombre == \"Juan\":\n",
        "    print(\"Es un gusto conocerte\")\n",
        "elif Nombre == \"Pedro\":\n",
        "    print(\"Es un gusto conocerte\")\n",
        "else:\n",
        "    print(\"Es un gusto conocerte,\" + \" \" + Nombre + \".\")"
      ],
      "metadata": {
        "id": "OZTja0N3jEb9",
        "colab": {
          "base_uri": "https://localhost:8080/"
        },
        "outputId": "d5aa9e0d-89d4-458f-f824-9206d31b53e2"
      },
      "execution_count": 68,
      "outputs": [
        {
          "output_type": "stream",
          "name": "stdout",
          "text": [
            "Hola, ¿me podrías decir tu nombre?\n",
            "Daniel CIsneros\n",
            "Es un gusto conocerte, Daniel CIsneros.\n"
          ]
        }
      ]
    },
    {
      "cell_type": "markdown",
      "source": [
        "2. Escribe una función que regrese el último elemento de una lista y que revierta el orden de la lista e imprima la lista revertida."
      ],
      "metadata": {
        "id": "kTYIMmL7srk3"
      }
    },
    {
      "cell_type": "code",
      "source": [
        "Lista = [\"0\",\"10\", \"20\", \"30\", \"40\", \"50\"]\n",
        "print(Lista[-1])\n",
        "for Lista in range(50,-10,-10):\n",
        "  print(Lista)"
      ],
      "metadata": {
        "colab": {
          "base_uri": "https://localhost:8080/"
        },
        "id": "wL8QhtHos4q3",
        "outputId": "c4056805-38b3-40d9-c88c-8ad5decae6d9"
      },
      "execution_count": 66,
      "outputs": [
        {
          "output_type": "stream",
          "name": "stdout",
          "text": [
            "50\n",
            "50\n",
            "40\n",
            "30\n",
            "20\n",
            "10\n",
            "0\n"
          ]
        }
      ]
    },
    {
      "cell_type": "markdown",
      "source": [
        "3. Escribe una función que toma una lista de strings y los imprima línea por línea en un marco rectangular. Por ejemplo, la lista [“Hola”, “a”, “todos”, “esto”, “es”, “un”, “marco”] se imprime:"
      ],
      "metadata": {
        "id": "71tZVBylwxEr"
      }
    },
    {
      "cell_type": "code",
      "source": [
        "for Texto in '********', '*Hola  *','*a     *','*todos *','*esto  *','*es    *','*un    *','*marco *','********':\n",
        "  print(Texto)"
      ],
      "metadata": {
        "colab": {
          "base_uri": "https://localhost:8080/"
        },
        "id": "H0Yy42_xxxpi",
        "outputId": "d88ee2c8-b5c2-4939-cf3a-400a07d420b2"
      },
      "execution_count": 63,
      "outputs": [
        {
          "output_type": "stream",
          "name": "stdout",
          "text": [
            "********\n",
            "*Hola  *\n",
            "*a     *\n",
            "*todos *\n",
            "*esto  *\n",
            "*es    *\n",
            "*un    *\n",
            "*marco *\n",
            "********\n"
          ]
        }
      ]
    }
  ]
}